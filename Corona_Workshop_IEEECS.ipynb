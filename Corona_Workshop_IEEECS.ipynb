{
  "nbformat": 4,
  "nbformat_minor": 0,
  "metadata": {
    "colab": {
      "name": "Corona Workshop IEEECS.ipynb",
      "provenance": [],
      "collapsed_sections": []
    },
    "kernelspec": {
      "name": "python3",
      "display_name": "Python 3"
    },
    "language_info": {
      "name": "python"
    }
  },
  "cells": [
    {
      "cell_type": "code",
      "metadata": {
        "colab": {
          "base_uri": "https://localhost:8080/"
        },
        "id": "bRxofnkmMxbg",
        "outputId": "6ad6ca2a-8b2f-4f56-9d7f-2c24b31756ed"
      },
      "source": [
        "print(\"Hello world\")"
      ],
      "execution_count": 2,
      "outputs": [
        {
          "output_type": "stream",
          "text": [
            "Hello world\n"
          ],
          "name": "stdout"
        }
      ]
    },
    {
      "cell_type": "code",
      "metadata": {
        "colab": {
          "base_uri": "https://localhost:8080/"
        },
        "id": "itoscGi0M61F",
        "outputId": "a700a6fa-be3f-4af2-eec8-cac979005428"
      },
      "source": [
        "from google.colab import drive\n",
        "drive.mount('/content/drive')"
      ],
      "execution_count": 3,
      "outputs": [
        {
          "output_type": "stream",
          "text": [
            "Drive already mounted at /content/drive; to attempt to forcibly remount, call drive.mount(\"/content/drive\", force_remount=True).\n"
          ],
          "name": "stdout"
        }
      ]
    },
    {
      "cell_type": "code",
      "metadata": {
        "id": "R3qgKHTNNkXc"
      },
      "source": [
        "import pandas\n",
        "import matplotlib.pyplot as plt\n",
        "import seaborn \n",
        "import numpy"
      ],
      "execution_count": 4,
      "outputs": []
    },
    {
      "cell_type": "code",
      "metadata": {
        "id": "mFfXPJUgN7pk"
      },
      "source": [
        "data = pandas.read_csv( \"drive/MyDrive/UAE Coronavirus Dataset FCSA.csv\" )"
      ],
      "execution_count": 5,
      "outputs": []
    },
    {
      "cell_type": "code",
      "metadata": {
        "colab": {
          "base_uri": "https://localhost:8080/",
          "height": 417
        },
        "id": "eGa_MxVoOq8Q",
        "outputId": "834652cf-a739-4184-c7ef-b208d723bd55"
      },
      "source": [
        "data"
      ],
      "execution_count": 6,
      "outputs": [
        {
          "output_type": "execute_result",
          "data": {
            "text/html": [
              "<div>\n",
              "<style scoped>\n",
              "    .dataframe tbody tr th:only-of-type {\n",
              "        vertical-align: middle;\n",
              "    }\n",
              "\n",
              "    .dataframe tbody tr th {\n",
              "        vertical-align: top;\n",
              "    }\n",
              "\n",
              "    .dataframe thead th {\n",
              "        text-align: right;\n",
              "    }\n",
              "</style>\n",
              "<table border=\"1\" class=\"dataframe\">\n",
              "  <thead>\n",
              "    <tr style=\"text-align: right;\">\n",
              "      <th></th>\n",
              "      <th>Day</th>\n",
              "      <th>Date</th>\n",
              "      <th>Cases</th>\n",
              "      <th>Recovered</th>\n",
              "      <th>Deaths</th>\n",
              "      <th>Tests</th>\n",
              "      <th>Active</th>\n",
              "      <th>Vaccine</th>\n",
              "    </tr>\n",
              "  </thead>\n",
              "  <tbody>\n",
              "    <tr>\n",
              "      <th>0</th>\n",
              "      <td>1</td>\n",
              "      <td>1/29/2020</td>\n",
              "      <td>4</td>\n",
              "      <td>0</td>\n",
              "      <td>0</td>\n",
              "      <td>75</td>\n",
              "      <td>4</td>\n",
              "      <td>0</td>\n",
              "    </tr>\n",
              "    <tr>\n",
              "      <th>1</th>\n",
              "      <td>2</td>\n",
              "      <td>2/1/2020</td>\n",
              "      <td>1</td>\n",
              "      <td>0</td>\n",
              "      <td>0</td>\n",
              "      <td>183</td>\n",
              "      <td>5</td>\n",
              "      <td>0</td>\n",
              "    </tr>\n",
              "    <tr>\n",
              "      <th>2</th>\n",
              "      <td>3</td>\n",
              "      <td>2/8/2020</td>\n",
              "      <td>2</td>\n",
              "      <td>0</td>\n",
              "      <td>0</td>\n",
              "      <td>574</td>\n",
              "      <td>7</td>\n",
              "      <td>0</td>\n",
              "    </tr>\n",
              "    <tr>\n",
              "      <th>3</th>\n",
              "      <td>4</td>\n",
              "      <td>2/9/2020</td>\n",
              "      <td>0</td>\n",
              "      <td>1</td>\n",
              "      <td>0</td>\n",
              "      <td>1360</td>\n",
              "      <td>6</td>\n",
              "      <td>0</td>\n",
              "    </tr>\n",
              "    <tr>\n",
              "      <th>4</th>\n",
              "      <td>5</td>\n",
              "      <td>2/10/2020</td>\n",
              "      <td>1</td>\n",
              "      <td>0</td>\n",
              "      <td>0</td>\n",
              "      <td>437</td>\n",
              "      <td>7</td>\n",
              "      <td>0</td>\n",
              "    </tr>\n",
              "    <tr>\n",
              "      <th>...</th>\n",
              "      <td>...</td>\n",
              "      <td>...</td>\n",
              "      <td>...</td>\n",
              "      <td>...</td>\n",
              "      <td>...</td>\n",
              "      <td>...</td>\n",
              "      <td>...</td>\n",
              "      <td>...</td>\n",
              "    </tr>\n",
              "    <tr>\n",
              "      <th>383</th>\n",
              "      <td>384</td>\n",
              "      <td>3/18/2021</td>\n",
              "      <td>2101</td>\n",
              "      <td>2628</td>\n",
              "      <td>10</td>\n",
              "      <td>198328</td>\n",
              "      <td>16936</td>\n",
              "      <td>150097</td>\n",
              "    </tr>\n",
              "    <tr>\n",
              "      <th>384</th>\n",
              "      <td>385</td>\n",
              "      <td>3/19/2021</td>\n",
              "      <td>2160</td>\n",
              "      <td>2391</td>\n",
              "      <td>4</td>\n",
              "      <td>239268</td>\n",
              "      <td>16701</td>\n",
              "      <td>143680</td>\n",
              "    </tr>\n",
              "    <tr>\n",
              "      <th>385</th>\n",
              "      <td>386</td>\n",
              "      <td>3/20/2021</td>\n",
              "      <td>2013</td>\n",
              "      <td>2240</td>\n",
              "      <td>5</td>\n",
              "      <td>240035</td>\n",
              "      <td>16469</td>\n",
              "      <td>56910</td>\n",
              "    </tr>\n",
              "    <tr>\n",
              "      <th>386</th>\n",
              "      <td>387</td>\n",
              "      <td>3/21/2021</td>\n",
              "      <td>1717</td>\n",
              "      <td>1960</td>\n",
              "      <td>5</td>\n",
              "      <td>237479</td>\n",
              "      <td>16221</td>\n",
              "      <td>117712</td>\n",
              "    </tr>\n",
              "    <tr>\n",
              "      <th>387</th>\n",
              "      <td>388</td>\n",
              "      <td>3/22/2021</td>\n",
              "      <td>1871</td>\n",
              "      <td>2144</td>\n",
              "      <td>7</td>\n",
              "      <td>185531</td>\n",
              "      <td>15941</td>\n",
              "      <td>75957</td>\n",
              "    </tr>\n",
              "  </tbody>\n",
              "</table>\n",
              "<p>388 rows × 8 columns</p>\n",
              "</div>"
            ],
            "text/plain": [
              "     Day       Date  Cases  Recovered  Deaths   Tests  Active  Vaccine\n",
              "0      1  1/29/2020      4          0       0      75       4        0\n",
              "1      2   2/1/2020      1          0       0     183       5        0\n",
              "2      3   2/8/2020      2          0       0     574       7        0\n",
              "3      4   2/9/2020      0          1       0    1360       6        0\n",
              "4      5  2/10/2020      1          0       0     437       7        0\n",
              "..   ...        ...    ...        ...     ...     ...     ...      ...\n",
              "383  384  3/18/2021   2101       2628      10  198328   16936   150097\n",
              "384  385  3/19/2021   2160       2391       4  239268   16701   143680\n",
              "385  386  3/20/2021   2013       2240       5  240035   16469    56910\n",
              "386  387  3/21/2021   1717       1960       5  237479   16221   117712\n",
              "387  388  3/22/2021   1871       2144       7  185531   15941    75957\n",
              "\n",
              "[388 rows x 8 columns]"
            ]
          },
          "metadata": {
            "tags": []
          },
          "execution_count": 6
        }
      ]
    },
    {
      "cell_type": "code",
      "metadata": {
        "colab": {
          "base_uri": "https://localhost:8080/",
          "height": 295
        },
        "id": "X8St6VYsO5KA",
        "outputId": "8a4cef50-f910-47cd-cd6e-b3a54413630c"
      },
      "source": [
        "data.describe()"
      ],
      "execution_count": 7,
      "outputs": [
        {
          "output_type": "execute_result",
          "data": {
            "text/html": [
              "<div>\n",
              "<style scoped>\n",
              "    .dataframe tbody tr th:only-of-type {\n",
              "        vertical-align: middle;\n",
              "    }\n",
              "\n",
              "    .dataframe tbody tr th {\n",
              "        vertical-align: top;\n",
              "    }\n",
              "\n",
              "    .dataframe thead th {\n",
              "        text-align: right;\n",
              "    }\n",
              "</style>\n",
              "<table border=\"1\" class=\"dataframe\">\n",
              "  <thead>\n",
              "    <tr style=\"text-align: right;\">\n",
              "      <th></th>\n",
              "      <th>Day</th>\n",
              "      <th>Cases</th>\n",
              "      <th>Recovered</th>\n",
              "      <th>Deaths</th>\n",
              "      <th>Tests</th>\n",
              "      <th>Active</th>\n",
              "      <th>Vaccine</th>\n",
              "    </tr>\n",
              "  </thead>\n",
              "  <tbody>\n",
              "    <tr>\n",
              "      <th>count</th>\n",
              "      <td>388.000000</td>\n",
              "      <td>388.000000</td>\n",
              "      <td>388.000000</td>\n",
              "      <td>388.000000</td>\n",
              "      <td>388.000000</td>\n",
              "      <td>388.000000</td>\n",
              "      <td>388.000000</td>\n",
              "    </tr>\n",
              "    <tr>\n",
              "      <th>mean</th>\n",
              "      <td>194.500000</td>\n",
              "      <td>1139.757732</td>\n",
              "      <td>1094.948454</td>\n",
              "      <td>3.724227</td>\n",
              "      <td>91692.556701</td>\n",
              "      <td>11325.311856</td>\n",
              "      <td>19007.023196</td>\n",
              "    </tr>\n",
              "    <tr>\n",
              "      <th>std</th>\n",
              "      <td>112.150197</td>\n",
              "      <td>1024.664030</td>\n",
              "      <td>1149.939667</td>\n",
              "      <td>4.178663</td>\n",
              "      <td>61781.076806</td>\n",
              "      <td>7167.593829</td>\n",
              "      <td>57142.197004</td>\n",
              "    </tr>\n",
              "    <tr>\n",
              "      <th>min</th>\n",
              "      <td>1.000000</td>\n",
              "      <td>0.000000</td>\n",
              "      <td>0.000000</td>\n",
              "      <td>0.000000</td>\n",
              "      <td>75.000000</td>\n",
              "      <td>4.000000</td>\n",
              "      <td>0.000000</td>\n",
              "    </tr>\n",
              "    <tr>\n",
              "      <th>25%</th>\n",
              "      <td>97.750000</td>\n",
              "      <td>390.750000</td>\n",
              "      <td>324.500000</td>\n",
              "      <td>1.000000</td>\n",
              "      <td>40723.000000</td>\n",
              "      <td>6386.000000</td>\n",
              "      <td>0.000000</td>\n",
              "    </tr>\n",
              "    <tr>\n",
              "      <th>50%</th>\n",
              "      <td>194.500000</td>\n",
              "      <td>817.000000</td>\n",
              "      <td>692.500000</td>\n",
              "      <td>2.000000</td>\n",
              "      <td>82133.500000</td>\n",
              "      <td>10048.000000</td>\n",
              "      <td>0.000000</td>\n",
              "    </tr>\n",
              "    <tr>\n",
              "      <th>75%</th>\n",
              "      <td>291.250000</td>\n",
              "      <td>1315.500000</td>\n",
              "      <td>1516.250000</td>\n",
              "      <td>5.000000</td>\n",
              "      <td>139162.750000</td>\n",
              "      <td>16113.250000</td>\n",
              "      <td>0.000000</td>\n",
              "    </tr>\n",
              "    <tr>\n",
              "      <th>max</th>\n",
              "      <td>388.000000</td>\n",
              "      <td>3977.000000</td>\n",
              "      <td>5059.000000</td>\n",
              "      <td>20.000000</td>\n",
              "      <td>244459.000000</td>\n",
              "      <td>27792.000000</td>\n",
              "      <td>826301.000000</td>\n",
              "    </tr>\n",
              "  </tbody>\n",
              "</table>\n",
              "</div>"
            ],
            "text/plain": [
              "              Day        Cases  ...        Active        Vaccine\n",
              "count  388.000000   388.000000  ...    388.000000     388.000000\n",
              "mean   194.500000  1139.757732  ...  11325.311856   19007.023196\n",
              "std    112.150197  1024.664030  ...   7167.593829   57142.197004\n",
              "min      1.000000     0.000000  ...      4.000000       0.000000\n",
              "25%     97.750000   390.750000  ...   6386.000000       0.000000\n",
              "50%    194.500000   817.000000  ...  10048.000000       0.000000\n",
              "75%    291.250000  1315.500000  ...  16113.250000       0.000000\n",
              "max    388.000000  3977.000000  ...  27792.000000  826301.000000\n",
              "\n",
              "[8 rows x 7 columns]"
            ]
          },
          "metadata": {
            "tags": []
          },
          "execution_count": 7
        }
      ]
    },
    {
      "cell_type": "code",
      "metadata": {
        "colab": {
          "base_uri": "https://localhost:8080/",
          "height": 282
        },
        "id": "uLE1dOniO-eh",
        "outputId": "02ebd64d-c8e8-4100-d410-c66bb46db1dd"
      },
      "source": [
        "plt.plot( data[\"Day\"][-75:] , data['Vaccine'][-75:] , 'hotpink')"
      ],
      "execution_count": 8,
      "outputs": [
        {
          "output_type": "execute_result",
          "data": {
            "text/plain": [
              "[<matplotlib.lines.Line2D at 0x7f2bf2750a90>]"
            ]
          },
          "metadata": {
            "tags": []
          },
          "execution_count": 8
        },
        {
          "output_type": "display_data",
          "data": {
            "image/png": "[encoded data removed]",
            "text/plain": [
              "<Figure size 432x288 with 1 Axes>"
            ]
          },
          "metadata": {
            "tags": [],
            "needs_background": "light"
          }
        }
      ]
    },
    {
      "cell_type": "code",
      "metadata": {
        "colab": {
          "base_uri": "https://localhost:8080/",
          "height": 350
        },
        "id": "rvQdswcFRRjq",
        "outputId": "ab5e074d-d8ea-4dd2-d827-c9381d023370"
      },
      "source": [
        "seaborn.scatterplot( data['Cases'],data['Deaths'] )"
      ],
      "execution_count": 9,
      "outputs": [
        {
          "output_type": "stream",
          "text": [
            "/usr/local/lib/python3.7/dist-packages/seaborn/_decorators.py:43: FutureWarning: Pass the following variables as keyword args: x, y. From version 0.12, the only valid positional argument will be `data`, and passing other arguments without an explicit keyword will result in an error or misinterpretation.\n",
            "  FutureWarning\n"
          ],
          "name": "stderr"
        },
        {
          "output_type": "execute_result",
          "data": {
            "text/plain": [
              "<matplotlib.axes._subplots.AxesSubplot at 0x7f2bf26b6dd0>"
            ]
          },
          "metadata": {
            "tags": []
          },
          "execution_count": 9
        },
        {
          "output_type": "display_data",
          "data": {
            "image/png": "[encoded data removed]",
            "text/plain": [
              "<Figure size 432x288 with 1 Axes>"
            ]
          },
          "metadata": {
            "tags": [],
            "needs_background": "light"
          }
        }
      ]
    },
    {
      "cell_type": "code",
      "metadata": {
        "id": "qtQR6nbrTnn9"
      },
      "source": [
        "x = data[ [ 'Recovered','Active', 'Tests' ] ]\n",
        "y= data['Cases']"
      ],
      "execution_count": 10,
      "outputs": []
    },
    {
      "cell_type": "code",
      "metadata": {
        "colab": {
          "base_uri": "https://localhost:8080/"
        },
        "id": "HnL4JGtCWk_p",
        "outputId": "30dbfdb0-3166-4cfb-f8cc-783677cca1d5"
      },
      "source": [
        "print(y)"
      ],
      "execution_count": 11,
      "outputs": [
        {
          "output_type": "stream",
          "text": [
            "0         4\n",
            "1         1\n",
            "2         2\n",
            "3         0\n",
            "4         1\n",
            "       ... \n",
            "383    2101\n",
            "384    2160\n",
            "385    2013\n",
            "386    1717\n",
            "387    1871\n",
            "Name: Cases, Length: 388, dtype: int64\n"
          ],
          "name": "stdout"
        }
      ]
    },
    {
      "cell_type": "code",
      "metadata": {
        "id": "_OYYmkNbWm_G"
      },
      "source": [
        "# Syllabus will be the first 310 values -> 80% of my data was the syllabus\n",
        "#Train test split\n",
        "xtrain= x[:310]\n",
        "xtest = x[310:]\n",
        "ytrain = y[:310]\n",
        "ytest = y[310:]"
      ],
      "execution_count": 12,
      "outputs": []
    },
    {
      "cell_type": "code",
      "metadata": {
        "id": "Jzet3lhuXLz2"
      },
      "source": [
        "from sklearn.linear_model import Lasso\n",
        "model = Lasso(alpha=0.01)  #TRy other numbers"
      ],
      "execution_count": 13,
      "outputs": []
    },
    {
      "cell_type": "code",
      "metadata": {
        "colab": {
          "base_uri": "https://localhost:8080/"
        },
        "id": "8Ma7yOyGXftU",
        "outputId": "5b5e61ed-8df3-4586-910e-4935ecf9b65a"
      },
      "source": [
        "model.fit(xtrain,ytrain)"
      ],
      "execution_count": 14,
      "outputs": [
        {
          "output_type": "execute_result",
          "data": {
            "text/plain": [
              "Lasso(alpha=0.01, copy_X=True, fit_intercept=True, max_iter=1000,\n",
              "      normalize=False, positive=False, precompute=False, random_state=None,\n",
              "      selection='cyclic', tol=0.0001, warm_start=False)"
            ]
          },
          "metadata": {
            "tags": []
          },
          "execution_count": 14
        }
      ]
    },
    {
      "cell_type": "code",
      "metadata": {
        "id": "Ojs_h1g9XnEt"
      },
      "source": [
        "pred = model.predict(xtest)"
      ],
      "execution_count": 15,
      "outputs": []
    },
    {
      "cell_type": "code",
      "metadata": {
        "colab": {
          "base_uri": "https://localhost:8080/"
        },
        "id": "ms9K0BgFXuu9",
        "outputId": "357216e7-7dde-4786-9bf3-0c197df2215a"
      },
      "source": [
        "pred"
      ],
      "execution_count": 16,
      "outputs": [
        {
          "output_type": "execute_result",
          "data": {
            "text/plain": [
              "array([1455.78906942, 1704.70115905, 1822.67916068, 2303.39927758,\n",
              "       1885.49429949, 1920.95787143, 2002.32489512, 1722.01518131,\n",
              "       1818.53008234, 1852.99122324, 1839.90002461, 2022.40946373,\n",
              "       2123.41939153, 2235.3361655 , 2041.34453259, 2260.24733158,\n",
              "       2391.36121114, 2437.09132263, 2488.55104761, 2535.77691154,\n",
              "       2593.01736218, 2263.20288483, 2479.91234191, 2665.88552619,\n",
              "       2259.56611532, 2240.97207842, 2204.29248061, 2630.78171639,\n",
              "       2369.89164456, 2468.69993515, 2511.42230282, 2351.66630116,\n",
              "       2286.24844441, 2345.86523463, 2762.19974434, 2270.63100212,\n",
              "       2193.41233335, 2089.58552175, 2392.80109469, 2199.62169457,\n",
              "       2362.69499334, 2924.1245948 , 2598.44670177, 2378.63636714,\n",
              "       2313.73668302, 2190.2061214 , 2448.21536906, 2396.11017767,\n",
              "       2375.09007972, 2024.30981051, 2175.65774026, 2282.56880751,\n",
              "       2626.17599824, 1907.89788535, 1817.64841741, 1862.10456984,\n",
              "       1459.24508436, 1929.13063965, 1878.34994985, 2020.61284479,\n",
              "       2174.990678  , 2144.41470156, 2016.26924687, 1802.9970463 ,\n",
              "       2003.58979282, 2108.88949905, 2013.92438326, 2117.69697443,\n",
              "       2210.83498089, 2213.97014614, 2135.29894238, 2208.45855131,\n",
              "       2393.49911097, 2132.26385643, 2289.97197416, 2245.17200185,\n",
              "       2141.39448647, 1898.92735132])"
            ]
          },
          "metadata": {
            "tags": []
          },
          "execution_count": 16
        }
      ]
    },
    {
      "cell_type": "code",
      "metadata": {
        "id": "8fIDrUltXvvO"
      },
      "source": [
        "from sklearn import metrics"
      ],
      "execution_count": 17,
      "outputs": []
    },
    {
      "cell_type": "code",
      "metadata": {
        "colab": {
          "base_uri": "https://localhost:8080/"
        },
        "id": "OJnHh95kX2Rd",
        "outputId": "85a5263e-8dae-4577-b7e9-9eb604d4816d"
      },
      "source": [
        "print(metrics.mean_squared_error(ytest,pred))"
      ],
      "execution_count": 18,
      "outputs": [
        {
          "output_type": "stream",
          "text": [
            "872494.7305570787\n"
          ],
          "name": "stdout"
        }
      ]
    },
    {
      "cell_type": "code",
      "metadata": {
        "colab": {
          "base_uri": "https://localhost:8080/"
        },
        "id": "jy-6TSt_X-SC",
        "outputId": "9bc96667-74f6-4a72-f263-251a4e398078"
      },
      "source": [
        "print(metrics.mean_absolute_error(ytest,pred))"
      ],
      "execution_count": 19,
      "outputs": [
        {
          "output_type": "stream",
          "text": [
            "799.4518079721994\n"
          ],
          "name": "stdout"
        }
      ]
    },
    {
      "cell_type": "code",
      "metadata": {
        "colab": {
          "base_uri": "https://localhost:8080/",
          "height": 265
        },
        "id": "RsqQPPngYERi",
        "outputId": "4fabaefa-e9d7-473f-daa7-14c2066fa37e"
      },
      "source": [
        "plt.plot(data['Day'][310:], data['Cases'][310:],\"blue\")\n",
        "plt.plot(data['Day'][310:], pred, \"red\")\n",
        "plt.show()"
      ],
      "execution_count": 20,
      "outputs": [
        {
          "output_type": "display_data",
          "data": {
            "image/png": "[encoded data removed]",
            "text/plain": [
              "<Figure size 432x288 with 1 Axes>"
            ]
          },
          "metadata": {
            "tags": [],
            "needs_background": "light"
          }
        }
      ]
    },
    {
      "cell_type": "code",
      "metadata": {
        "colab": {
          "base_uri": "https://localhost:8080/",
          "height": 265
        },
        "id": "HxWWkW0IYYP8",
        "outputId": "a449f6e3-98ab-4bdc-8320-a543f2ce20d5"
      },
      "source": [
        "pred = model.predict(x)\n",
        "plt.plot(data['Day'], data['Cases'],\"blue\")\n",
        "plt.plot(data['Day'], pred, \"red\")\n",
        "plt.show()"
      ],
      "execution_count": 21,
      "outputs": [
        {
          "output_type": "display_data",
          "data": {
            "image/png": "[encoded data removed]",
            "text/plain": [
              "<Figure size 432x288 with 1 Axes>"
            ]
          },
          "metadata": {
            "tags": [],
            "needs_background": "light"
          }
        }
      ]
    },
    {
      "cell_type": "code",
      "metadata": {
        "colab": {
          "base_uri": "https://localhost:8080/"
        },
        "id": "phK2ACAfYvr9",
        "outputId": "150e567b-4ed4-4df3-fe49-fbc55bee3941"
      },
      "source": [
        "input=numpy.array( [2348,15759,209079] ).reshape(1,-1)\n",
        "model.predict(input) "
      ],
      "execution_count": 23,
      "outputs": [
        {
          "output_type": "execute_result",
          "data": {
            "text/plain": [
              "array([2094.2635247])"
            ]
          },
          "metadata": {
            "tags": []
          },
          "execution_count": 23
        }
      ]
    },
    {
      "cell_type": "markdown",
      "metadata": {
        "id": "hiOP4wqDA5Bm"
      },
      "source": [
        "# Predicted next days cases to within 100 cases!"
      ]
    }
  ]
}